{
  "nbformat": 4,
  "nbformat_minor": 0,
  "metadata": {
    "colab": {
      "provenance": []
    },
    "kernelspec": {
      "name": "python3",
      "display_name": "Python 3"
    },
    "language_info": {
      "name": "python"
    }
  },
  "cells": [
    {
      "cell_type": "code",
      "execution_count": 3,
      "metadata": {
        "colab": {
          "base_uri": "https://localhost:8080/"
        },
        "id": "0OFc71CM28vb",
        "outputId": "57d60bbe-f290-432d-b60c-89d7309ca6f7"
      },
      "outputs": [
        {
          "output_type": "stream",
          "name": "stdout",
          "text": [
            "32\n"
          ]
        }
      ],
      "source": [
        "# 10/23/2024\n",
        "# author: Jeffery Wong (jeffery.wong@nyulangone.org)\n",
        "\n",
        "\n",
        "a = pow(2, 5)\n",
        "print(a)\n",
        "\n",
        "# How using repositories, tracking changes and publishing like GitHub can help\n",
        "# with computational reproducibility?\n",
        "# ------------------------------------------------------------------------------\n",
        "# Using repositories, such as GitHub, enables a method of systematic version\n",
        "# control, to easily track line-by-line changes, and ease of collaboration.\n",
        "# GitHub shows a clear record of changes through commits.\n",
        "#\n",
        "# GitHub also allows users to provide comments as to why the new updates were\n",
        "# justified, although, it is up to the user to provide clear documentation.\n",
        "# This can also be used to facilitate debugging since issues can easily be\n",
        "# retraced.\n",
        "#\n",
        "# GitHub is also an open source and collaborative platform that enables\n",
        "# reproducibility of data. In the MRM journal, they encourage users to provide\n",
        "# a GitHub link for technical development, which allows users to reproduce their\n",
        "# research.\n"
      ]
    }
  ]
}